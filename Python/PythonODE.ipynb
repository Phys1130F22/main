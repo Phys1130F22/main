{
 "cells": [
  {
   "cell_type": "markdown",
   "metadata": {},
   "source": [
    "\n",
    "Ordinary differential equations\n",
    "=========================================\n",
    "\n",
    "Let’s consider a simple 1st order equation: \n",
    "$$\\frac{dy}{dx}=f(x,y)$$\n",
    "\n",
    "To solve this equation with a computer we need to **discretize** the differences: we\n",
    "have to convert the differential equation into a “**finite differences**” equation. The simplest\n",
    "solution is Euler’s method.\n",
    "\n",
    "Euler’s method\n",
    "--------------\n",
    "\n",
    "Suppose that at a point $x_0$, the function $f$ has a value $y_0$. We\n",
    "want to find the approximate value of $y$ at a point $x_1$ close to\n",
    "$x_0$, $x_1=x_0+\\Delta x$, where $\\Delta x$ is small. We assume that $f$,\n",
    "the rate of change of $y$, is constant in this interval $\\Delta x$.\n",
    "Therefore we find: $$\\begin{eqnarray}\n",
    "&& dx \\approx \\Delta x &=&x_1-x_0, \\\\\n",
    "&& dy \\approx \\Delta y &=&y_1-y_0,\\end{eqnarray}$$ with\n",
    "$y_1=y(x_1)=y(x_0+\\Delta x)$. Then we re-write the differential equation in terms of discrete differences as:\n",
    "$$\\frac{\\Delta y}{\\Delta x}=f(x,y)$$ or \n",
    "$$\\Delta y = f(x,y)\\Delta x$$\n",
    "and approximate the value of $y_1$ as\n",
    "$$y_1=y_0+f(x_0,y_0)(x_1-x_0)$$ We can generalize this formula to find\n",
    "the value of $y$ at $x_2=x_1+\\Delta x$ as\n",
    "$$y_{2}=y_1+f(x_1,y_1)\\Delta x,$$ or in the general case:\n",
    "$$y_{n+1}=y_n+f(x_n,y_n)\\Delta x$$\n",
    "\n",
    "This is a good approximation as long as $\\Delta x$ is “small”. What is\n",
    "small? Depends on the problem, but it is basically defined by the “rate\n",
    "of change”, or “smoothness” of $f$. $f(x)$ has to behave smoothly and\n",
    "without rapid variations in the interval $\\Delta x$.\n",
    "\n",
    "Notice that Euler’s method is equivalent to a 1st order Taylor expansion\n",
    "about the point $x_0$. The “local error” calculating $x_1$ is then\n",
    "$O(\\Delta x^2)$. If we use the method $N$ times to calculate $N$\n",
    "consecutive points, the propagated “global” error will be\n",
    "$NO(\\Delta x^2)\\approx O(\\Delta \n",
    "x)$. This error decreases linearly with decreasing step, so we need to\n",
    "halve the step size to reduce the error in half. The numerical work for\n",
    "each step consists of a single evaluation of $f$."
   ]
  },
  {
   "cell_type": "markdown",
   "metadata": {},
   "source": [
    "### Newton’s law of cooling \n",
    "\n",
    "If the temperature difference between an object and its surroundings is\n",
    "small, the rate of change of the temperature of the object is\n",
    "proportional to the temperature difference: $$\\frac{dT}{dt}=-r(T-T_s),$$\n",
    "where $T$ is the temperature of the body, $T_s$ is the temperature of\n",
    "the environment, and $r$ is a “cooling constant” that depends on the\n",
    "heat transfer mechanism, the contact area with the environment and the\n",
    "thermal properties of the body. The minus sign appears because if\n",
    "$T>T_s$, the temperature must decrease.\n",
    "\n",
    "Below is a program that calculates the temperature of a body at a time $t$,\n",
    "given the cooling constant $r$ and the temperature of the body at time\n",
    "$t=0$. Results are plotted for $r=0.1\\frac{1}{min}$; $T_s=83^{\\circ} C$, $T_0=10^{\\circ}$\n",
    "using different intervals $\\Delta t$ and compared with exact (analytical)\n",
    "results."
   ]
  },
  {
   "cell_type": "code",
   "execution_count": 1,
   "metadata": {},
   "outputs": [],
   "source": [
    "T0 = 10.   # initial temperature\n",
    "Ts = 83.   # temp. of the environment\n",
    "r = 0.1    # cooling rate\n",
    "dt = 0.05  # time step\n",
    "tmax = 60. # maximum time\n",
    "nsteps = int(tmax/dt)  # number of steps"
   ]
  },
  {
   "cell_type": "code",
   "execution_count": 2,
   "metadata": {
    "scrolled": false
   },
   "outputs": [
    {
     "name": "stdout",
     "output_type": "stream",
     "text": [
      "10 0.5 13.568960475998653\n",
      "20 1.0 16.963434939952915\n",
      "30 1.5 20.191953990227184\n",
      "40 2.0 23.26263116534477\n",
      "50 2.5 26.183183333989128\n",
      "60 3.0 28.960950088140557\n",
      "70 3.5 31.602912188085003\n",
      "80 4.0 34.115709105648804\n",
      "90 4.5 36.50565570974689\n",
      "100 5.0 38.77875813617685\n",
      "110 5.5 40.94072888154071\n",
      "120 6.0 42.99700115922691\n",
      "130 6.5 44.952742553530186\n",
      "140 7.0 46.81286800622329\n",
      "150 7.5 48.58205216821692\n",
      "160 8.0 50.264741147348666\n",
      "170 8.5 51.865163681823965\n",
      "180 9.0 53.38734176738914\n",
      "190 9.5 54.835100764943164\n",
      "200 10.0 56.21207901398977\n",
      "210 10.5 57.52173697608902\n",
      "220 11.0 58.76736593128677\n",
      "230 11.5 59.95209624937685\n",
      "240 12.0 61.07890525678226\n",
      "250 12.5 62.15062471882562\n",
      "260 13.0 63.16994795619239\n",
      "270 13.5 64.1394366134711\n",
      "280 14.0 65.06152709678052\n",
      "290 14.5 65.9385366966622\n",
      "300 15.0 66.7726694116254\n",
      "310 15.5 67.56602148697982\n",
      "320 16.0 68.32058668287546\n",
      "330 16.5 69.03826128478869\n",
      "340 17.0 69.72084886904635\n",
      "350 17.5 70.37006483536398\n",
      "360 18.0 70.98754071778882\n",
      "370 18.5 71.57482828488136\n",
      "380 19.0 72.13340343943966\n",
      "390 19.5 72.66466992756654\n",
      "400 20.0 73.169962866401\n",
      "410 20.5 73.65055209937927\n",
      "420 21.0 74.1076453874577\n",
      "430 21.5 74.54239144431698\n",
      "440 22.0 74.95588282317591\n",
      "450 22.5 75.3491586624689\n",
      "460 23.0 75.72320729728784\n",
      "470 23.5 76.07896874315107\n",
      "480 24.0 76.41733705834073\n",
      "490 24.5 76.73916259074625\n",
      "500 25.0 77.04525411485967\n",
      "510 25.5 77.33638086429366\n",
      "520 26.0 77.61327446492992\n",
      "530 26.5 77.87663077355619\n",
      "540 27.0 78.12711162661272\n",
      "550 27.5 78.3653465034425\n",
      "560 28.0 78.59193410822557\n",
      "570 28.5 78.8074438745727\n",
      "580 29.0 79.01241739655975\n",
      "590 29.5 79.2073697897989\n",
      "600 30.0 79.39279098596725\n",
      "610 30.5 79.56914696404598\n",
      "620 31.0 79.73688092136489\n",
      "630 31.5 79.896414387394\n",
      "640 32.0 80.04814828308261\n",
      "650 32.5 80.19246392840711\n",
      "660 33.0 80.32972400065992\n",
      "670 33.5 80.46027344588805\n",
      "680 34.0 80.58444034577118\n",
      "690 34.5 80.70253674211858\n",
      "700 35.0 80.81485942105608\n",
      "710 35.5 80.92169065887461\n",
      "720 36.0 81.02329893141399\n",
      "730 36.5 81.11993958876533\n",
      "740 37.0 81.21185549698707\n",
      "750 37.5 81.2992776484477\n",
      "760 38.0 81.38242574232902\n",
      "770 38.5 81.46150873674848\n",
      "780 39.0 81.53672537388843\n",
      "790 39.5 81.60826467945178\n",
      "800 40.0 81.67630643769954\n",
      "810 40.5 81.7410216432637\n",
      "820 41.0 81.80257293087094\n",
      "830 41.5 81.86111498405742\n",
      "840 42.0 81.91679492390135\n",
      "850 42.5 81.96975267875062\n",
      "860 43.0 82.0201213358745\n",
      "870 43.5 82.06802747592299\n",
      "880 44.0 82.11359149103461\n",
      "890 44.5 82.15692788739196\n",
      "900 45.0 82.19814557298533\n",
      "910 45.5 82.23734813130753\n",
      "920 46.0 82.27463408166793\n",
      "930 46.5 82.31009712677978\n",
      "940 47.0 82.34382638824282\n",
      "950 47.5 82.37590663051343\n",
      "960 48.0 82.40641847392477\n",
      "970 48.5 82.43543859729253\n",
      "980 49.0 82.46303993061498\n",
      "990 49.5 82.48929183835233\n",
      "1000 50.0 82.51426029374535\n",
      "1010 50.5 82.53800804461171\n",
      "1020 51.0 82.5605947710365\n",
      "1030 51.5 82.58207723535318\n",
      "1040 52.0 82.60250942479212\n",
      "1050 52.5 82.62194268715511\n",
      "1060 53.0 82.64042585985658\n",
      "1070 53.5 82.65800539265608\n",
      "1080 54.0 82.67472546439052\n",
      "1090 54.5 82.69062809399928\n",
      "1100 55.0 82.70575324612122\n",
      "1110 55.5 82.72013893152919\n",
      "1120 56.0 82.73382130265443\n",
      "1130 56.5 82.74683474444045\n",
      "1140 57.0 82.75921196075537\n",
      "1150 57.5 82.77098405657942\n",
      "1160 58.0 82.78218061617451\n",
      "1170 58.5 82.79282977743175\n",
      "1180 59.0 82.80295830258449\n",
      "1190 59.5 82.81259164546394\n",
      "1200 60.0 82.82175401546685\n"
     ]
    }
   ],
   "source": [
    "T = T0\n",
    "for i in range(1,nsteps+1):\n",
    "    new_T = T - r*(T-Ts)*dt\n",
    "    T = new_T\n",
    "    if i%10==0:\n",
    "        print (i,i*dt, T)\n",
    "        if i*dt==10:\n",
    "            check=T\n",
    "    # we can also do t = t - r*(t-ts)*dt, it would save some memory and processing time.\n",
    "    "
   ]
  },
  {
   "cell_type": "markdown",
   "metadata": {},
   "source": [
    "Let's plot the results. We first need to import the required libraries and methods"
   ]
  },
  {
   "cell_type": "code",
   "execution_count": 3,
   "metadata": {},
   "outputs": [],
   "source": [
    "#%matplotlib inline\n",
    "import numpy as np\n",
    "from matplotlib import pyplot "
   ]
  },
  {
   "cell_type": "markdown",
   "metadata": {},
   "source": [
    "Next, we create numpy arrays to store the (x,y) values "
   ]
  },
  {
   "cell_type": "code",
   "execution_count": 4,
   "metadata": {},
   "outputs": [],
   "source": [
    "my_time = np.zeros(nsteps)\n",
    "my_temp = np.zeros(nsteps)"
   ]
  },
  {
   "cell_type": "markdown",
   "metadata": {},
   "source": [
    "We have to rewrite the loop to store the values in the arrays. Remember that numpy arrays start from 0."
   ]
  },
  {
   "cell_type": "code",
   "execution_count": 5,
   "metadata": {},
   "outputs": [],
   "source": [
    "T = T0\n",
    "my_temp[0] = T0\n",
    "for i in range(1,nsteps):\n",
    "    T = T - r*(T-Ts)*dt\n",
    "    my_time[i] = i*dt\n",
    "    my_temp[i] = T\n",
    "    "
   ]
  },
  {
   "cell_type": "code",
   "execution_count": 6,
   "metadata": {},
   "outputs": [
    {
     "data": {
      "image/png": "[encoded data removed]",
      "text/plain": [
       "<Figure size 432x288 with 1 Axes>"
      ]
     },
     "metadata": {
      "needs_background": "light"
     },
     "output_type": "display_data"
    }
   ],
   "source": [
    "pyplot.plot(my_time, my_temp, color='#003366', ls='-', lw=3)\n",
    "pyplot.xlabel('time')\n",
    "pyplot.ylabel('temperature');"
   ]
  },
  {
   "cell_type": "markdown",
   "metadata": {},
   "source": [
    "We could have saved effort by defining"
   ]
  },
  {
   "cell_type": "code",
   "execution_count": 7,
   "metadata": {},
   "outputs": [],
   "source": [
    "my_time = np.linspace(0.,tmax,nsteps)"
   ]
  },
  {
   "cell_type": "code",
   "execution_count": 7,
   "metadata": {},
   "outputs": [
    {
     "data": {
      "image/png": "[encoded data removed]",
      "text/plain": [
       "<Figure size 432x288 with 1 Axes>"
      ]
     },
     "metadata": {
      "needs_background": "light"
     },
     "output_type": "display_data"
    }
   ],
   "source": [
    "pyplot.plot(my_time, my_temp, color='#003366', ls='-', lw=3)\n",
    "pyplot.xlabel('time')\n",
    "pyplot.ylabel('temperature');"
   ]
  },
  {
   "cell_type": "markdown",
   "metadata": {},
   "source": [
    "Alternatively, and in order to re use code in future problems, we could have created a function."
   ]
  },
  {
   "cell_type": "code",
   "execution_count": 8,
   "metadata": {},
   "outputs": [],
   "source": [
    "def euler(y, f, dx):\n",
    "    \"\"\"Computes y_new = y + f*dx\n",
    "    \n",
    "    Parameters\n",
    "    ----------\n",
    "    y  : float\n",
    "        old value of y_n at x_n\n",
    "    f  : float\n",
    "        first derivative f(x,y) evaluated at (x_n,y_n)\n",
    "    dx : float\n",
    "        x step\n",
    "    \"\"\"\n",
    "    \n",
    "    return y + f*dx"
   ]
  },
  {
   "cell_type": "code",
   "execution_count": 9,
   "metadata": {},
   "outputs": [
    {
     "data": {
      "text/plain": [
       "[<matplotlib.lines.Line2D at 0x20e40e2c148>]"
      ]
     },
     "execution_count": 9,
     "metadata": {},
     "output_type": "execute_result"
    },
    {
     "data": {
      "image/png": "[encoded data removed]",
      "text/plain": [
       "<Figure size 432x288 with 1 Axes>"
      ]
     },
     "metadata": {
      "needs_background": "light"
     },
     "output_type": "display_data"
    }
   ],
   "source": [
    "T = T0\n",
    "for i in range(1,nsteps):\n",
    "    T = euler(T, -r*(T-Ts), dt)\n",
    "    my_temp[i] = T\n",
    "pyplot.plot(my_time,my_temp)"
   ]
  },
  {
   "cell_type": "markdown",
   "metadata": {
    "collapsed": true
   },
   "source": [
    "Actually, for this particularly simple case, calling a function may introduce unecessary overhead, but it is an example that we will find useful for future applications. For a simple function like this we could have used a \"lambda\" function (more about lambda functions <a href=\"https://realpython.com/python-lambda/\">here</a>)."
   ]
  },
  {
   "cell_type": "code",
   "execution_count": 10,
   "metadata": {},
   "outputs": [],
   "source": [
    "euler = lambda y, f, dx: y + f*dx "
   ]
  },
  {
   "cell_type": "markdown",
   "metadata": {},
   "source": [
    "Now, let's study the effects of different time steps on the convergence. Notice the initial time step `dt=1`; it is then divided in half in every iteration. Note how the convergence changes ever so slightly depending on `dt`"
   ]
  },
  {
   "cell_type": "code",
   "execution_count": 11,
   "metadata": {},
   "outputs": [
    {
     "data": {
      "image/png": "[encoded data removed]",
      "text/plain": [
       "<Figure size 432x288 with 1 Axes>"
      ]
     },
     "metadata": {
      "needs_background": "light"
     },
     "output_type": "display_data"
    }
   ],
   "source": [
    "dt = 1.\n",
    "check=83\n",
    "#my_color = ['#003366','#663300','#660033','#330066']\n",
    "my_color = ['red', 'green', 'blue', 'black']\n",
    "for j in range(0,4):\n",
    "    nsteps = int(tmax/dt)    #the arrays will have different size for different time steps\n",
    "    my_time = np.linspace(dt,tmax,nsteps) \n",
    "    my_temp = np.zeros(nsteps)\n",
    "    T = T0\n",
    "    for i in range(1,nsteps):\n",
    "        T = euler(T, -r*(T-Ts), dt)\n",
    "        my_temp[i] = T\n",
    "        \n",
    "    pyplot.plot(my_time, my_temp, color=my_color[j], ls='-', lw=3)\n",
    "    dt = dt/2.\n",
    "pyplot.plot(my_time,check*np.ones([len(my_time),1]))\n",
    "pyplot.xlabel('time');\n",
    "pyplot.ylabel('temperature');\n",
    "pyplot.xlim(59,60)\n",
    "pyplot.ylim(82.5,83);"
   ]
  },
  {
   "cell_type": "markdown",
   "metadata": {
    "collapsed": true
   },
   "source": [
    "Runge-Kutta methods\n",
    "-------------------\n",
    "\n",
    "### 2nd order Runge-Kutta\n",
    "\n",
    "Euler’s method rests on the idea that the slope at one point can be used\n",
    "to extrapolate to the next. A plausible idea to make a better estimate\n",
    "of the slope is to extrapolate to a point halfway across the interval,\n",
    "and then to use the derivative at this point to extrapolate across the\n",
    "whole interval. Thus,\n",
    "\n",
    "$$\\begin{eqnarray}\n",
    "k&=&\\Delta x f(x_n,y_x), \\\\\n",
    "y_{n+1}&=&y_n+\\Delta x f(x+\\Delta x/2, y_n+k/2) + O(\\Delta \n",
    "x^3).\\end{eqnarray}$$\n",
    "\n",
    "It has the same accuracy as the Taylor series. It requires\n",
    "the evaluation of $f$ twice for each step.\n",
    "\n",
    "### 4th order Runge-Kutta\n",
    "\n",
    "Similar ideas can be used to derive a 3rd or 4th order Runge-Kutta\n",
    "method. It has been found by experience that the best balance between\n",
    "accuracy and computational effort is given by a fourth-order algorithm.\n",
    "Such a method would require evaluating $f$ four times at each step, with\n",
    "a local accuracy of $O(\\Delta x^5)$. It can be written as follows:\n",
    "$$\\begin{eqnarray}\n",
    " k_1&=&\\Delta x f(x_n,y_n), \\\\\n",
    " k_2&=&\\Delta x f(x_n+\\Delta x/2,y_n+k_1/2), \\\\\n",
    " k_3&=&\\Delta x f(x_n+\\Delta x/2,y_n+k_2/2), \\\\\n",
    " k_4&=&\\Delta x f(x_n+\\Delta x,y_n+k_3), \\\\\n",
    " y_{n+1}&=&y_n+\\frac{1}{6}(k_1+2k_2+2k_3+k_4)+O(\\Delta x^5).\\end{eqnarray}$$\n",
    "\n",
    "Runge-Kutta method are self-staring, meaning that they can be used to\n",
    "obtain the first few iterations for a non self-starting algorithm."
   ]
  },
  {
   "cell_type": "markdown",
   "metadata": {},
   "source": [
    "### Newton's Law of Cooling\n",
    "\n",
    "Using the 4th order Runge-Kutta Methods,"
   ]
  },
  {
   "cell_type": "code",
   "execution_count": 12,
   "metadata": {},
   "outputs": [],
   "source": [
    "def rk4insteps(T,func,dt):\n",
    "    k1 = dt*func(T,dt)\n",
    "    k2 = dt*func(T+0.5*k1,dt)\n",
    "    k3 =dt*func(T+0.5*k2,dt)\n",
    "    k4 = dt*func(T+k3,dt)\n",
    "    T += (k1+2*k2+2*k3+k4)/6\n",
    "    return T"
   ]
  },
  {
   "cell_type": "code",
   "execution_count": 13,
   "metadata": {},
   "outputs": [
    {
     "data": {
      "text/plain": [
       "[<matplotlib.lines.Line2D at 0x20e40f0ce08>]"
      ]
     },
     "execution_count": 13,
     "metadata": {},
     "output_type": "execute_result"
    },
    {
     "data": {
      "image/png": "[encoded data removed]",
      "text/plain": [
       "<Figure size 432x288 with 1 Axes>"
      ]
     },
     "metadata": {
      "needs_background": "light"
     },
     "output_type": "display_data"
    }
   ],
   "source": [
    "fT = lambda T,t: -r*(T-Ts)\n",
    "T = T0\n",
    "dt = 0.05\n",
    "for i in range(1,nsteps):\n",
    "    T = rk4insteps(T, fT, dt)\n",
    "    my_temp[i] = T\n",
    "pyplot.plot(my_time,my_temp)"
   ]
  },
  {
   "cell_type": "code",
   "execution_count": 14,
   "metadata": {},
   "outputs": [
    {
     "data": {
      "image/png": "[encoded data removed]",
      "text/plain": [
       "<Figure size 432x288 with 1 Axes>"
      ]
     },
     "metadata": {
      "needs_background": "light"
     },
     "output_type": "display_data"
    }
   ],
   "source": [
    "dt = 1\n",
    "#my_color = ['#003366','#663300','#660033','#330066']\n",
    "my_color = ['red', 'green', 'blue', 'black']\n",
    "for j in range(0,4):\n",
    "    nsteps = int(tmax/dt)    #the arrays will have different size for different time steps\n",
    "    my_time = np.linspace(dt,tmax,nsteps) \n",
    "    my_temp = np.zeros(nsteps)\n",
    "    T = T0\n",
    "    for i in range(1,nsteps):\n",
    "        T = rk4insteps(T,fT,dt)\n",
    "        my_temp[i] = T\n",
    "        \n",
    "    pyplot.plot(my_time, my_temp, color=my_color[j], ls='-', lw=3)\n",
    "    dt = dt/4.\n",
    "pyplot.plot(my_time,check*np.ones([len(my_time),1]))\n",
    "pyplot.xlabel('time');\n",
    "pyplot.ylabel('temperature');\n",
    "pyplot.xlim(59,60)\n",
    "pyplot.ylim(82.5,83);"
   ]
  },
  {
   "cell_type": "markdown",
   "metadata": {},
   "source": [
    "# ODE solvers in `scipy.integrate`\n",
    "The `scipy` package contains a number of ode solvers that act much like analogous functions in MATLAB. They include:\n",
    "\n",
    "- `OdeSolution`: Continuous ODE solution.\n",
    "- `odeint`: (*deprecated, but it still works*) Integrate a system of ordinary differential equations.\n",
    "- `solve_ivp`: Solve an initial value problem for a system of ODEs.\n",
    "\n",
    "There are also a number of routines - functions that don't solve the equation for you, but act as 1 step in the solving process, much like the \"homegrown\" routines in `diffeq.py` that I have supplied\n",
    "\n",
    "- `solve_ivp`: Solve an initial value problem for a system of ODEs.\n",
    "- `RK23`: Explicit Runge-Kutta method of order 3(2).\n",
    "- `RK45`:\tExplicit Runge-Kutta method of order 5(4).\n",
    "- `Radau`: Implicit Runge-Kutta method of Radau IIA family of order 5.\n",
    "- `BDF`: Implicit method based on backward-differentiation formulas.\n",
    "- `LSODA`: Adams/BDF method with automatic stiffness detection and switching.\n",
    "\n",
    "And finally, there are some class methods, but they require a little too much set up for us.\n",
    "\n",
    "- `OdeSolver`: Base class for ODE solvers.\n",
    "- `DenseOutput`: Base class for local interpolant over step made by an ODE solver.\n",
    "\n",
    "You should refer to the [scipy reference page](https://docs.scipy.org/doc/scipy/reference/integrate.html) for more details. Below are several examples of ode solvers using the equation, $$\\frac{dy}{dx} +y = x,$$ where $y(0)=1$, as shown in [ode example](http://sam-dolan.staff.shef.ac.uk/mas212/notebooks/ODE_Example.html).\n",
    "This differential equation has an exact solution: $$y(x) = x-1+2e^{-x}$$"
   ]
  },
  {
   "cell_type": "code",
   "execution_count": 16,
   "metadata": {},
   "outputs": [],
   "source": [
    "import scipy.integrate as scint\n",
    "func= lambda y,x: -y+x\n",
    "yexact = lambda x: x-1+2*np.exp(-x)\n",
    "y0=1\n",
    "xspan = np.linspace(0,5,100)"
   ]
  },
  {
   "cell_type": "code",
   "execution_count": 17,
   "metadata": {},
   "outputs": [
    {
     "data": {
      "text/plain": [
       "[<matplotlib.lines.Line2D at 0x20e40eec508>]"
      ]
     },
     "execution_count": 17,
     "metadata": {},
     "output_type": "execute_result"
    },
    {
     "data": {
      "image/png": "[encoded data removed]",
      "text/plain": [
       "<Figure size 432x288 with 1 Axes>"
      ]
     },
     "metadata": {
      "needs_background": "light"
     },
     "output_type": "display_data"
    }
   ],
   "source": [
    "ysol1 = scint.odeint(func,y0,xspan)\n",
    "ysol1 = np.ndarray.flatten(ysol1)\n",
    "pyplot.plot(xspan,ysol1)\n",
    "pyplot.plot(xspan,yexact(xspan))"
   ]
  },
  {
   "cell_type": "markdown",
   "metadata": {},
   "source": [
    "Below is the difference between the numeric solution and the exact solution graphed on a semi-log plot. The error is small and varies along the interval."
   ]
  },
  {
   "cell_type": "code",
   "execution_count": 18,
   "metadata": {},
   "outputs": [
    {
     "data": {
      "text/plain": [
       "Text(0.5, 0, 'x')"
      ]
     },
     "execution_count": 18,
     "metadata": {},
     "output_type": "execute_result"
    },
    {
     "data": {
      "image/png": "[encoded data removed]",
      "text/plain": [
       "<Figure size 432x288 with 1 Axes>"
      ]
     },
     "metadata": {
      "needs_background": "light"
     },
     "output_type": "display_data"
    }
   ],
   "source": [
    "ydiff = np.abs(yexact(xspan) - ysol1)\n",
    "pyplot.semilogy(xspan,ydiff)\n",
    "pyplot.ylabel(\"Error\")\n",
    "pyplot.xlabel(\"x\")"
   ]
  }
 ],
 "metadata": {
  "kernelspec": {
   "display_name": "Python 3",
   "language": "python",
   "name": "python3"
  },
  "language_info": {
   "codemirror_mode": {
    "name": "ipython",
    "version": 3
   },
   "file_extension": ".py",
   "mimetype": "text/x-python",
   "name": "python",
   "nbconvert_exporter": "python",
   "pygments_lexer": "ipython3",
   "version": "3.8.5"
  }
 },
 "nbformat": 4,
 "nbformat_minor": 1
}
