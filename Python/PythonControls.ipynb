{
 "cells": [
  {
   "cell_type": "markdown",
   "metadata": {},
   "source": [
    "# Python Control Statements\n",
    "The so-called \"control statments\" allow the inputted and/or calculated values in the program to determine the next command executed. `if`, `for`, and `while` statements all fall under the category of control statements. \n",
    "## `if` statements\n",
    "`if` statements test a condition and then executes a command depending on whether that condition returns `true` (1) or `false` (0). An `if` can be supplemented with a `else` or and `elsif` for further refinement.\n"
   ]
  },
  {
   "cell_type": "code",
   "execution_count": 1,
   "metadata": {},
   "outputs": [
    {
     "name": "stdout",
     "output_type": "stream",
     "text": [
      "z is even\n"
     ]
    }
   ],
   "source": [
    "z= 4;\n",
    "if z % 2==0:\n",
    "    print(\"z is even\")"
   ]
  },
  {
   "cell_type": "code",
   "execution_count": 2,
   "metadata": {},
   "outputs": [
    {
     "name": "stdout",
     "output_type": "stream",
     "text": [
      "z is odd\n"
     ]
    }
   ],
   "source": [
    "z= 9;\n",
    "if z % 2==0:\n",
    "    print(\"z is even\")\n",
    "else:\n",
    "    print(\"z is odd\")"
   ]
  },
  {
   "cell_type": "code",
   "execution_count": 4,
   "metadata": {},
   "outputs": [
    {
     "name": "stdout",
     "output_type": "stream",
     "text": [
      "Looking in the kitchen\n",
      "The kit is pretty big\n"
     ]
    }
   ],
   "source": [
    "room = \"kit\"\n",
    "area = 19\n",
    "if room ==\"kit\":\n",
    "    print(\"Looking in the kitchen\")\n",
    "elif room==\"bed\":\n",
    "    print(\"Looking in the bedroom\")\n",
    "elif room==\"liv\":\n",
    "    print(\"Looking in the living room\")\n",
    "else:\n",
    "    print(\"Looking elsewhere\")\n",
    "\n",
    "if area>15:\n",
    "    print(\"The \" +room+ \" is pretty big\")\n",
    "else:\n",
    "    print(\"The \"+room+ \" looks pretty small\")"
   ]
  },
  {
   "cell_type": "markdown",
   "metadata": {},
   "source": [
    "## `for` Loop\n",
    "A `for` loop is used to iterate over a sequence, or perform the same operation on a set of data. Most programming languages have another method of iterating over an arrays, lists, or dictionaries, but a `for` statement is still needed in some cases."
   ]
  },
  {
   "cell_type": "code",
   "execution_count": 5,
   "metadata": {},
   "outputs": [
    {
     "name": "stdout",
     "output_type": "stream",
     "text": [
      "1 Mississippi!\n",
      "2 Mississippi!\n",
      "3 Mississippi!\n",
      "4 Mississippi!\n",
      "5 Mississippi!\n",
      "6 Mississippi!\n",
      "7 Mississippi!\n",
      "8 Mississippi!\n",
      "9 Mississippi!\n",
      "10 Mississippi!\n",
      "11 Mississippi!\n",
      "12 Mississippi!\n"
     ]
    }
   ],
   "source": [
    "for k in range(1,13):\n",
    "    print(str(k) + \" Mississippi!\")"
   ]
  },
  {
   "cell_type": "code",
   "execution_count": 6,
   "metadata": {},
   "outputs": [
    {
     "data": {
      "text/plain": [
       "dict_keys(['Alabama', 'Alaska', 'Arizona', 'Arkansas', 'California', 'Colorado', 'Connecticut', 'Delaware', 'District of Columbia', 'Florida', 'Georgia', 'Hawaii', 'Idaho', 'Illinois', 'Indiana', 'Iowa', 'Kansas', 'Kentucky', 'Louisiana', 'Maine', 'Maryland', 'Massachusetts', 'Michigan', 'Minnesota', 'Mississippi', 'Missouri', 'Montana', 'Nebraska', 'Nevada', 'New Hampshire', 'New Jersey', 'New Mexico', 'New York', 'North Carolina', 'North Dakota', 'Ohio', 'Oklahoma', 'Oregon', 'Pennsylvania', 'Rhode Island', 'South Carolina', 'South Dakota', 'Tennessee', 'Texas', 'Utah', 'Vermont', 'Virginia', 'Washington', 'West Virginia', 'Wisconsin', 'Wyoming'])"
      ]
     },
     "execution_count": 6,
     "metadata": {},
     "output_type": "execute_result"
    }
   ],
   "source": [
    "electoral = {\"Alabama\":9,\"Alaska\":3,\"Arizona\":11,\"Arkansas\":6,\"California\":55,\"Colorado\":9,\"Connecticut\":7,\"Delaware\":3,\"District of Columbia\":3,\"Florida\":29,\"Georgia\":16,\"Hawaii\":4,\"Idaho\":4,\"Illinois\":20,\"Indiana\":11,\"Iowa\":6,\"Kansas\":6,\"Kentucky\":8,\"Louisiana\":8,\"Maine\":4,\"Maryland\":10,\"Massachusetts\": 11,\"Michigan\":16,\"Minnesota\":10,\"Mississippi\":6,\"Missouri\":10,\"Montana\":3,\"Nebraska\":5,\"Nevada\":6,\"New Hampshire\":4,\"New Jersey\":14,\"New Mexico\":5,\"New York\":29,\"North Carolina\":15,\"North Dakota\":3,\"Ohio\":18,\"Oklahoma\":7,\"Oregon\":7,\"Pennsylvania\":20,\"Rhode Island\":4,\"South Carolina\":9,\"South Dakota\":3,\"Tennessee\":11,\"Texas\":38,\"Utah\":6,\"Vermont\":3,\"Virginia\":13,\"Washington\":12,\"West Virginia\":5,\"Wisconsin\":10,\"Wyoming\":3}\n",
    "type(electoral)\n",
    "electoral.keys()"
   ]
  },
  {
   "cell_type": "code",
   "execution_count": 7,
   "metadata": {},
   "outputs": [
    {
     "name": "stdout",
     "output_type": "stream",
     "text": [
      "151\n"
     ]
    }
   ],
   "source": [
    "s = 0\n",
    "for k in electoral.keys():\n",
    "    if electoral[k]>20:\n",
    "        s=electoral[k]+s      \n",
    "print(s)        \n",
    "    "
   ]
  },
  {
   "cell_type": "markdown",
   "metadata": {},
   "source": [
    "## `while` Loop\n",
    "`while` statements will execute a set of commands until a specified condition is satisfied. In Python, you may include an `else` statement that executes after the while loop is done."
   ]
  },
  {
   "cell_type": "code",
   "execution_count": 19,
   "metadata": {},
   "outputs": [
    {
     "name": "stdout",
     "output_type": "stream",
     "text": [
      "1\n",
      "2\n",
      "3\n",
      "4\n",
      "5\n",
      "6\n",
      "7\n",
      "8\n"
     ]
    }
   ],
   "source": [
    "k=0\n",
    "while k<8:\n",
    "    k = k + 1;\n",
    "    print(k)"
   ]
  },
  {
   "cell_type": "code",
   "execution_count": 11,
   "metadata": {},
   "outputs": [
    {
     "name": "stdout",
     "output_type": "stream",
     "text": [
      "1\n",
      "2\n",
      "3\n",
      "4\n",
      "5\n",
      "6\n",
      "7\n",
      "8\n",
      "now I counted to 8\n"
     ]
    }
   ],
   "source": [
    "k=0\n",
    "while k<8:\n",
    "    k = k + 1;\n",
    "    print(k)\n",
    "else:\n",
    "    print(\"now I counted to \"+str(k))"
   ]
  },
  {
   "cell_type": "code",
   "execution_count": 13,
   "metadata": {},
   "outputs": [
    {
     "name": "stdout",
     "output_type": "stream",
     "text": [
      "[('California', 55), ('Texas', 38), ('Florida', 29), ('New York', 29), ('Illinois', 20), ('Pennsylvania', 20), ('Ohio', 18), ('Georgia', 16), ('Michigan', 16), ('North Carolina', 15), ('New Jersey', 14), ('Virginia', 13), ('Washington', 12), ('Arizona', 11), ('Indiana', 11), ('Massachusetts', 11), ('Tennessee', 11), ('Maryland', 10), ('Minnesota', 10), ('Missouri', 10), ('Wisconsin', 10), ('Alabama', 9), ('Colorado', 9), ('South Carolina', 9), ('Kentucky', 8), ('Louisiana', 8), ('Connecticut', 7), ('Oklahoma', 7), ('Oregon', 7), ('Arkansas', 6), ('Iowa', 6), ('Kansas', 6), ('Mississippi', 6), ('Nevada', 6), ('Utah', 6), ('Nebraska', 5), ('New Mexico', 5), ('West Virginia', 5), ('Hawaii', 4), ('Idaho', 4), ('Maine', 4), ('New Hampshire', 4), ('Rhode Island', 4), ('Alaska', 3), ('Delaware', 3), ('District of Columbia', 3), ('Montana', 3), ('North Dakota', 3), ('South Dakota', 3), ('Vermont', 3), ('Wyoming', 3)]\n"
     ]
    }
   ],
   "source": [
    "sortedvotes = sorted(electoral.items(), key=lambda x: x[1], reverse=True)\n",
    "print(sortedvotes)"
   ]
  },
  {
   "cell_type": "code",
   "execution_count": 17,
   "metadata": {},
   "outputs": [
    {
     "name": "stdout",
     "output_type": "stream",
     "text": [
      "California\n",
      "Pennsylvania\n",
      "New Jersey\n",
      "Massachusetts\n",
      "Wisconsin\n",
      "Louisiana\n",
      "Iowa\n",
      "Nebraska\n",
      "Maine\n",
      "District of Columbia\n",
      "Wyoming\n"
     ]
    },
    {
     "ename": "IndexError",
     "evalue": "list index out of range",
     "output_type": "error",
     "traceback": [
      "\u001b[1;31m---------------------------------------------------------------------------\u001b[0m",
      "\u001b[1;31mIndexError\u001b[0m                                Traceback (most recent call last)",
      "Input \u001b[1;32mIn [17]\u001b[0m, in \u001b[0;36m<cell line: 3>\u001b[1;34m()\u001b[0m\n\u001b[0;32m      2\u001b[0m k\u001b[38;5;241m=\u001b[39m\u001b[38;5;241m0\u001b[39m;\n\u001b[0;32m      3\u001b[0m \u001b[38;5;28;01mwhile\u001b[39;00m s\u001b[38;5;241m<\u001b[39m\u001b[38;5;241m271\u001b[39m:\n\u001b[1;32m----> 4\u001b[0m     s \u001b[38;5;241m=\u001b[39m \u001b[43msortedvotes\u001b[49m\u001b[43m[\u001b[49m\u001b[43mk\u001b[49m\u001b[43m]\u001b[49m[\u001b[38;5;241m1\u001b[39m] \u001b[38;5;241m+\u001b[39ms\n\u001b[0;32m      5\u001b[0m     \u001b[38;5;28mprint\u001b[39m(sortedvotes[k][\u001b[38;5;241m0\u001b[39m])\n\u001b[0;32m      6\u001b[0m     k\u001b[38;5;241m+\u001b[39m\u001b[38;5;241m=\u001b[39m\u001b[38;5;241m5\u001b[39m\n",
      "\u001b[1;31mIndexError\u001b[0m: list index out of range"
     ]
    }
   ],
   "source": [
    "s=0;\n",
    "k=0;\n",
    "while s<271:\n",
    "    s = sortedvotes[k][1] +s\n",
    "    print(sortedvotes[k][0])\n",
    "    k+=5\n",
    "else: \n",
    "    print(\"It only takes \"+str(k)+ \" states to win the Presidency\")\n",
    "    "
   ]
  },
  {
   "cell_type": "code",
   "execution_count": null,
   "metadata": {},
   "outputs": [],
   "source": []
  }
 ],
 "metadata": {
  "kernelspec": {
   "display_name": "Python 3 (ipykernel)",
   "language": "python",
   "name": "python3"
  },
  "language_info": {
   "codemirror_mode": {
    "name": "ipython",
    "version": 3
   },
   "file_extension": ".py",
   "mimetype": "text/x-python",
   "name": "python",
   "nbconvert_exporter": "python",
   "pygments_lexer": "ipython3",
   "version": "3.9.13"
  }
 },
 "nbformat": 4,
 "nbformat_minor": 4
}
